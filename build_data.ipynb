{
 "cells": [
  {
   "cell_type": "code",
   "execution_count": 34,
   "metadata": {
    "collapsed": true
   },
   "outputs": [],
   "source": [
    "import tensorflow as tf\n",
    "import numpy as np\n",
    "import os\n",
    "import json\n",
    "import pandas as pd\n",
    "from matplotlib import pyplot as plt\n",
    "% matplotlib inline\n",
    "from sklearn.utils.class_weight import compute_sample_weight"
   ]
  },
  {
   "cell_type": "code",
   "execution_count": 14,
   "metadata": {
    "collapsed": true
   },
   "outputs": [],
   "source": [
    "def normalize(df):\n",
    "    df_norm = (df - df_mean) / (max_feature - df_min)\n",
    "    return df_norm"
   ]
  },
  {
   "cell_type": "code",
   "execution_count": 72,
   "metadata": {
    "collapsed": true
   },
   "outputs": [],
   "source": [
    "def write_tfrecord(path, df,lab=None,weights=False):\n",
    "    with tf.python_io.TFRecordWriter(path) as writer:\n",
    "        for i in range(len(df.index)):\n",
    "            if lab is None:\n",
    "                example = tf.train.Example(features=tf.train.Features(feature={\n",
    "                'data': _floats_feature(df.iloc[i].as_matrix())\n",
    "                }))\n",
    "            elif not weights:\n",
    "                example = tf.train.Example(features=tf.train.Features(feature={\n",
    "                'data': _floats_feature(df.iloc[i].as_matrix()),\n",
    "                'label': _int64_feature_single(lab.iloc[i].as_matrix()[1])\n",
    "                }))\n",
    "            else:\n",
    "                example = tf.train.Example(features=tf.train.Features(feature={\n",
    "                'data': _floats_feature(df.iloc[i].as_matrix()),\n",
    "                'label': _int64_feature_single(lab.iloc[i].as_matrix()[1]),\n",
    "                'weight':_floats_feature_single(lab.iloc[i].as_matrix()[0])\n",
    "                }))\n",
    "            writer.write(example.SerializeToString())\n",
    "        print('%d records wrote' % i)\n",
    "        \n",
    "def _floats_feature(value):\n",
    "    return tf.train.Feature(float_list=tf.train.FloatList(value=value))\n",
    "def _int64_feature_single(value):\n",
    "    return tf.train.Feature(int64_list=tf.train.Int64List(value=[value]))\n",
    "def _floats_feature_single(value):\n",
    "    return tf.train.Feature(float_list=tf.train.FloatList(value=[value]))"
   ]
  },
  {
   "cell_type": "code",
   "execution_count": 49,
   "metadata": {},
   "outputs": [
    {
     "name": "stdout",
     "output_type": "stream",
     "text": [
      "16747/4642\n"
     ]
    }
   ],
   "source": [
    "with open('../data/split.json','r') as f: \n",
    "    data = json.load(f)\n",
    "print '%d/%d' % (len(data['train']), len(data['val']))\n",
    "train_idx = data['train']\n",
    "val_idx = data['val']"
   ]
  },
  {
   "cell_type": "code",
   "execution_count": 9,
   "metadata": {
    "collapsed": true
   },
   "outputs": [],
   "source": [
    "INPUT_PATH = os.path.join('..', 'data')\n",
    "TEST_DF = pd.read_csv(os.path.join(INPUT_PATH, 'test_covariates.tsv'), sep='\\t')\n",
    "TRAIN_DF = pd.read_csv(os.path.join(INPUT_PATH, 'train_covariates.tsv'), sep='\\t')\n",
    "TRAIN_ID_DF = pd.read_csv(os.path.join(INPUT_PATH, 'train_experiment_ids.tsv'), sep='\\t')\n",
    "TRAIN_LAB_DF = pd.read_csv(os.path.join(INPUT_PATH, 'train_observed_labels_new.tsv'), sep='\\t')"
   ]
  },
  {
   "cell_type": "code",
   "execution_count": 11,
   "metadata": {
    "collapsed": true
   },
   "outputs": [],
   "source": [
    "ALL_DF= pd.concat([TRAIN_DF, TEST_DF])"
   ]
  },
  {
   "cell_type": "code",
   "execution_count": 13,
   "metadata": {
    "collapsed": true
   },
   "outputs": [],
   "source": [
    "max_feature = ALL_DF.max()\n",
    "df_mean = ALL_DF.mean()\n",
    "df_min = ALL_DF.min()\n",
    "df_norm = normalize(TRAIN_DF)\n",
    "df_test_norm = normalize(TEST_DF)"
   ]
  },
  {
   "cell_type": "code",
   "execution_count": null,
   "metadata": {
    "collapsed": true
   },
   "outputs": [],
   "source": [
    "for i,t in max_feature[max_feature == 0].iteritems():\n",
    "    # print i\n",
    "    if i in df_test_norm.keys():\n",
    "        del df_test_norm[i]\n",
    "for i,t in max_feature[max_feature == 0].iteritems():\n",
    "    print i\n",
    "    if i in df_norm.keys():\n",
    "        del df_norm[i]"
   ]
  },
  {
   "cell_type": "code",
   "execution_count": 35,
   "metadata": {
    "collapsed": true
   },
   "outputs": [],
   "source": [
    "df_train_norm = df_norm.loc[train_idx]\n",
    "lab_train = TRAIN_LAB_DF.loc[train_idx]\n",
    "df_val_norm = df_norm.loc[val_idx]\n",
    "lab_val = TRAIN_LAB_DF.loc[val_idx]"
   ]
  },
  {
   "cell_type": "code",
   "execution_count": 63,
   "metadata": {
    "collapsed": true
   },
   "outputs": [],
   "source": [
    "# compute data weights\n",
    "lab_t = lab_train.as_matrix()[:,1]\n",
    "weights = compute_sample_weight(class_weight='balanced', y=lab_t)\n",
    "lab_train = np.vstack((weights,lab_t)).T\n",
    "lab_train = pd.DataFrame(lab_train)"
   ]
  },
  {
   "cell_type": "code",
   "execution_count": 73,
   "metadata": {},
   "outputs": [
    {
     "name": "stdout",
     "output_type": "stream",
     "text": [
      "16746 records wrote\n",
      "4641 records wrote\n",
      "2854 records wrote\n"
     ]
    }
   ],
   "source": [
    "write_tfrecord('../data/train_full_norm.tfrecords',df_train_norm,lab_train,weights=True)\n",
    "write_tfrecord('../data/val_full_norm.tfrecords',df_val_norm,lab_val)\n",
    "write_tfrecord('../data/test_full_norm.tfrecords',df_test_norm)"
   ]
  },
  {
   "cell_type": "code",
   "execution_count": null,
   "metadata": {
    "collapsed": true
   },
   "outputs": [],
   "source": [
    "np.save('../data/train_data.npy', df_train_norm.as_matrix())\n",
    "np.save('../data/train_label.npy', lab_train.as_matrix()[:,1])\n",
    "np.save('../data/val_data.npy', df_val_norm.as_matrix())\n",
    "np.save('../data/val_label.npy',lab_val.as_matrix()[:,1])\n",
    "\n",
    "np.save('../data/test_data.npy', df_test_norm.as_matrix())"
   ]
  },
  {
   "cell_type": "code",
   "execution_count": null,
   "metadata": {
    "collapsed": true
   },
   "outputs": [],
   "source": [
    "# produce class counts\n",
    "lab_t, count_t = np.unique(lab_train, return_counts=True)\n",
    "lab_v, count_v = np.unique(lab_val, return_counts=True)\n",
    "np.save('../data/sem_map.npy',{lab_t[i]: count_t[i] for i in range(len(count_t))})\n",
    "np.save('../data/sem_map_v.npy',{lab_v[i]: count_v[i] for i in range(len(count_v))})"
   ]
  }
 ],
 "metadata": {
  "kernelspec": {
   "display_name": "Python 2",
   "language": "python",
   "name": "python2"
  },
  "language_info": {
   "codemirror_mode": {
    "name": "ipython",
    "version": 2
   },
   "file_extension": ".py",
   "mimetype": "text/x-python",
   "name": "python",
   "nbconvert_exporter": "python",
   "pygments_lexer": "ipython2",
   "version": "2.7.13"
  }
 },
 "nbformat": 4,
 "nbformat_minor": 2
}
