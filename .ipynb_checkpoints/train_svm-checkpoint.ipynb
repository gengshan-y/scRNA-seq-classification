{
 "cells": [
  {
   "cell_type": "code",
   "execution_count": 2,
   "metadata": {
    "collapsed": true
   },
   "outputs": [],
   "source": [
    "from sklearn import ensemble\n",
    "import numpy as np\n",
    "from sklearn.decomposition import PCA\n",
    "from sklearn.svm import SVC\n",
    "import sklearn\n",
    "from matplotlib import pyplot as plt\n",
    "import itertools\n",
    "% matplotlib inline\n",
    "from sklearn.utils.class_weight import compute_sample_weight"
   ]
  },
  {
   "cell_type": "code",
   "execution_count": 15,
   "metadata": {
    "collapsed": true
   },
   "outputs": [],
   "source": [
    "def plot_confusion_matrix(cm, classes,\n",
    "                          normalize=False,\n",
    "                          title='Confusion matrix',\n",
    "                          cmap=plt.cm.Blues):\n",
    "    \"\"\"\n",
    "    This function prints and plots the confusion matrix.\n",
    "    Normalization can be applied by setting `normalize=True`.\n",
    "    \"\"\"\n",
    "    if normalize:\n",
    "        cm = cm.astype('float') / cm.sum(axis=1)[:, np.newaxis]\n",
    "        print(\"Normalized confusion matrix\")\n",
    "    else:\n",
    "        print('Confusion matrix, without normalization')\n",
    "\n",
    "    print(cm)\n",
    "\n",
    "    plt.imshow(cm, interpolation='nearest', cmap=cmap)\n",
    "    plt.title(title)\n",
    "    plt.colorbar()\n",
    "    tick_marks = np.arange(len(classes))\n",
    "    plt.xticks(tick_marks, classes, rotation=45)\n",
    "    plt.yticks(tick_marks, classes)\n",
    "\n",
    "    fmt = '.2f' if normalize else 'd'\n",
    "    thresh = cm.max() / 2.\n",
    "    for i, j in itertools.product(range(cm.shape[0]), range(cm.shape[1])):\n",
    "        plt.text(j, i, format(cm[i, j], fmt),\n",
    "                 horizontalalignment=\"center\",\n",
    "                 color=\"white\" if cm[i, j] > thresh else \"black\")\n",
    "\n",
    "    plt.tight_layout()\n",
    "    plt.ylabel('True label')\n",
    "    plt.xlabel('Predicted label')"
   ]
  },
  {
   "cell_type": "code",
   "execution_count": 3,
   "metadata": {
    "collapsed": true
   },
   "outputs": [],
   "source": [
    "data_train = np.load('../data/train_data.npy')\n",
    "data_val = np.load('../data/val_data.npy')\n",
    "label_train = np.load('../data/train_label.npy')\n",
    "label_val = np.load('../data/val_label.npy')\n",
    "\n",
    "data_test = np.load('../data/test_data.npy')"
   ]
  },
  {
   "cell_type": "code",
   "execution_count": 4,
   "metadata": {
    "collapsed": true
   },
   "outputs": [],
   "source": [
    "pca = PCA(n_components=100, whiten=False).fit(data_train)"
   ]
  },
  {
   "cell_type": "code",
   "execution_count": 5,
   "metadata": {},
   "outputs": [
    {
     "name": "stdout",
     "output_type": "stream",
     "text": [
      "0.323047415126\n"
     ]
    }
   ],
   "source": [
    "# keeped compoents\n",
    "print(sum(pca.explained_variance_ratio_))"
   ]
  },
  {
   "cell_type": "code",
   "execution_count": 6,
   "metadata": {
    "collapsed": true
   },
   "outputs": [],
   "source": [
    "X = pca.transform(data_train)\n",
    "y = label_train.astype(np.int)\n",
    "weights = compute_sample_weight(class_weight='balanced', y=label_train)"
   ]
  },
  {
   "cell_type": "code",
   "execution_count": 8,
   "metadata": {
    "collapsed": true
   },
   "outputs": [],
   "source": [
    "cls = SVC()"
   ]
  },
  {
   "cell_type": "code",
   "execution_count": 9,
   "metadata": {},
   "outputs": [
    {
     "data": {
      "text/plain": [
       "SVC(C=1.0, cache_size=200, class_weight=None, coef0=0.0,\n",
       "  decision_function_shape='ovr', degree=3, gamma='auto', kernel='rbf',\n",
       "  max_iter=-1, probability=False, random_state=None, shrinking=True,\n",
       "  tol=0.001, verbose=False)"
      ]
     },
     "execution_count": 9,
     "metadata": {},
     "output_type": "execute_result"
    }
   ],
   "source": [
    "cls.fit(X, y, sample_weight=weights)\n",
    "#cls.fit(X, y)"
   ]
  },
  {
   "cell_type": "code",
   "execution_count": 10,
   "metadata": {
    "collapsed": true
   },
   "outputs": [],
   "source": [
    "pred = cls.predict(X)\n",
    "sklearn.metrics.accuracy_score(y, pred)"
   ]
  },
  {
   "cell_type": "code",
   "execution_count": 12,
   "metadata": {
    "collapsed": true
   },
   "outputs": [],
   "source": [
    "X_v = pca.transform(data_val)\n",
    "y_v = label_val.astype(np.int)"
   ]
  },
  {
   "cell_type": "code",
   "execution_count": 13,
   "metadata": {
    "collapsed": true
   },
   "outputs": [],
   "source": [
    "pred_v = cls.predict(X_v)\n",
    "conf = sklearn.metrics.confusion_matrix(y_v, pred_v)"
   ]
  },
  {
   "cell_type": "code",
   "execution_count": 16,
   "metadata": {},
   "outputs": [
    {
     "data": {
      "text/plain": [
       "0.28780697975010772"
      ]
     },
     "execution_count": 16,
     "metadata": {},
     "output_type": "execute_result"
    }
   ],
   "source": [
    "sklearn.metrics.accuracy_score(y_v, pred_v)"
   ]
  },
  {
   "cell_type": "code",
   "execution_count": 212,
   "metadata": {},
   "outputs": [
    {
     "name": "stdout",
     "output_type": "stream",
     "text": [
      "             precision    recall  f1-score   support\n",
      "\n",
      "          0       1.00      0.13      0.23        39\n",
      "          1       1.00      0.29      0.45        96\n",
      "          2       1.00      0.22      0.36       207\n",
      "          3       0.01      0.75      0.02        16\n",
      "          4       0.67      1.00      0.80        10\n",
      "          5       0.33      0.87      0.47        15\n",
      "          6       0.75      1.00      0.86         3\n",
      "          7       0.00      0.00      0.00         8\n",
      "          8       0.33      0.33      0.33         6\n",
      "          9       0.75      0.92      0.83        83\n",
      "         10       0.73      0.78      0.75        67\n",
      "         11       0.71      0.80      0.75        71\n",
      "         12       0.00      0.00      0.00         9\n",
      "         13       0.00      0.00      0.00        49\n",
      "         14       0.00      0.00      0.00      1006\n",
      "         15       1.00      1.00      1.00        16\n",
      "         16       0.00      0.00      0.00       423\n",
      "         17       1.00      1.00      1.00        15\n",
      "         18       0.00      0.00      0.00       235\n",
      "         19       0.00      0.00      0.00        66\n",
      "         20       0.81      0.37      0.51        35\n",
      "         21       0.68      0.99      0.80       143\n",
      "         22       0.07      0.50      0.13        10\n",
      "         23       1.00      1.00      1.00        52\n",
      "         24       0.00      0.00      0.00       507\n",
      "         25       0.90      1.00      0.95        18\n",
      "         26       0.19      0.98      0.32        95\n",
      "         27       0.26      1.00      0.42        16\n",
      "         28       1.00      1.00      1.00        15\n",
      "         29       1.00      0.67      0.80         9\n",
      "         30       0.00      0.00      0.00       288\n",
      "         31       0.13      1.00      0.23        26\n",
      "         32       1.00      0.25      0.40         8\n",
      "         33       0.00      0.00      0.00         1\n",
      "         34       0.11      0.94      0.20        18\n",
      "         35       1.00      1.00      1.00         4\n",
      "         36       0.79      1.00      0.88        34\n",
      "         37       0.35      1.00      0.52       367\n",
      "         38       0.10      0.80      0.17        10\n",
      "         39       1.00      0.01      0.02       406\n",
      "         40       0.14      0.92      0.24        26\n",
      "         41       0.91      1.00      0.95        29\n",
      "         42       0.00      0.00      0.00         8\n",
      "         43       1.00      1.00      1.00        40\n",
      "         44       0.41      0.31      0.35        29\n",
      "         45       0.46      0.75      0.57         8\n",
      "\n",
      "avg / total       0.31      0.27      0.20      4642\n",
      "\n"
     ]
    }
   ],
   "source": [
    "print(sklearn.metrics.classification_report(y_v, pred_v))"
   ]
  },
  {
   "cell_type": "code",
   "execution_count": 24,
   "metadata": {
    "collapsed": true
   },
   "outputs": [],
   "source": [
    "X_test = pca.transform(data_test)\n",
    "pred_test = cls.predict(X_test)"
   ]
  },
  {
   "cell_type": "code",
   "execution_count": 18,
   "metadata": {
    "collapsed": true
   },
   "outputs": [],
   "source": [
    "np.save('../pred_svm_val.npy', pred_v)\n",
    "np.save('../pred_svm_test.npy', pred_test)"
   ]
  },
  {
   "cell_type": "code",
   "execution_count": null,
   "metadata": {
    "collapsed": true
   },
   "outputs": [],
   "source": [
    "np.set_printoptions(precision=2)\n",
    "# Plot non-normalized confusion matrix\n",
    "plt.figure(figsize=(30,30))\n",
    "plot_confusion_matrix(conf, classes=range(46),\n",
    "                      title='Confusion matrix, without normalization')\n",
    "plt.show()"
   ]
  }
 ],
 "metadata": {
  "kernelspec": {
   "display_name": "Python 2",
   "language": "python",
   "name": "python2"
  },
  "language_info": {
   "codemirror_mode": {
    "name": "ipython",
    "version": 2
   },
   "file_extension": ".py",
   "mimetype": "text/x-python",
   "name": "python",
   "nbconvert_exporter": "python",
   "pygments_lexer": "ipython2",
   "version": "2.7.13"
  }
 },
 "nbformat": 4,
 "nbformat_minor": 2
}
