{
 "cells": [
  {
   "cell_type": "code",
   "execution_count": 12,
   "metadata": {
    "collapsed": true
   },
   "outputs": [],
   "source": [
    "import numpy as np\n",
    "import pandas as pd\n",
    "import tensorflow as tf\n",
    "from matplotlib import pyplot as plt\n",
    "% matplotlib inline\n",
    "import seaborn as sns\n",
    "from scipy.stats import mode"
   ]
  },
  {
   "cell_type": "code",
   "execution_count": 4,
   "metadata": {
    "collapsed": true
   },
   "outputs": [],
   "source": [
    "n2l = np.load('../data/map.npy')[()]['n2l']\n",
    "\n",
    "pred_nnsoft_val=np.load('../pred_nnsoft_val.npy')\n",
    "pred_svm_val=np.load('../pred_svm_val.npy')\n",
    "pred_nnsig_val=np.load('../pred_nnsig_val.npy')\n",
    "\n",
    "pred_nnsoft_test=np.load('../pred_nnsoft_test.npy')\n",
    "pred_svm_test=np.load('../pred_svm_test.npy')\n",
    "pred_nnsig_test=np.load('../pred_nnsig_test.npy')"
   ]
  },
  {
   "cell_type": "code",
   "execution_count": 132,
   "metadata": {
    "collapsed": true
   },
   "outputs": [],
   "source": [
    "# voting\n",
    "test = []\n",
    "for i in range(len(pred_nnsig_test)):\n",
    "    #print [pred_nnsoft_val[i],pred_nnsig_val[i],pred_svm_val[i]]\n",
    "    a,b = mode([pred_nnsoft_test[i],pred_nnsig_test[i],pred_svm_test[i]])\n",
    "    if b[0] == 1:\n",
    "        test.append(pred_nnsig_test[i])\n",
    "    else:\n",
    "        test.append(a[0])"
   ]
  },
  {
   "cell_type": "code",
   "execution_count": null,
   "metadata": {
    "collapsed": true
   },
   "outputs": [],
   "source": [
    "# write results\n",
    "d = {'Cell Type': [n2l[i] for i in test]}\n",
    "TEST_LAB_DF = pd.DataFrame(data=d)\n",
    "TEST_LAB_DF.to_csv(path_or_buf='./test_predicted_labels.tsv',sep='\\t',index=False)\n",
    "# read back\n",
    "# pd.read_csv( './test_predicted_labels.tsv', sep='\\t')"
   ]
  },
  {
   "cell_type": "code",
   "execution_count": 145,
   "metadata": {
    "scrolled": true
   },
   "outputs": [
    {
     "data": {
      "text/plain": [
       "<matplotlib.axes._subplots.AxesSubplot at 0x7f2a3f4f4c90>"
      ]
     },
     "execution_count": 145,
     "metadata": {},
     "output_type": "execute_result"
    },
    {
     "data": {
      "image/png": "[encoded data removed]",
      "text/plain": [
       "<matplotlib.figure.Figure at 0x7f2a3f9ed810>"
      ]
     },
     "metadata": {},
     "output_type": "display_data"
    }
   ],
   "source": [
    "plt.figure(figsize=(10,10))\n",
    "sns.countplot(y=test)"
   ]
  },
  {
   "cell_type": "code",
   "execution_count": 2,
   "metadata": {
    "collapsed": true
   },
   "outputs": [],
   "source": [
    "# read tf record\n",
    "ls = []\n",
    "tfrecords_filename = '../data/val.tfrecords'\n",
    "record_iterator = tf.python_io.tf_record_iterator(path=tfrecords_filename.format(0))\n",
    "for i,string_record in enumerate(record_iterator):\n",
    "    example = tf.train.Example()\n",
    "    example.ParseFromString(string_record)\n",
    "    img_string = (example.features.feature)\n",
    "    ls.append( img_string['label'].int64_list.value[0] )\n",
    "    #print i\n",
    "    #print ls[-1]\n",
    "    # print np.sum(img_string['data'].float_list.value)\n",
    "    #if i==100:\n",
    "    #    break"
   ]
  },
  {
   "cell_type": "code",
   "execution_count": 122,
   "metadata": {},
   "outputs": [
    {
     "data": {
      "text/plain": [
       "0.5702283498492029"
      ]
     },
     "execution_count": 122,
     "metadata": {},
     "output_type": "execute_result"
    }
   ],
   "source": [
    "# validation accuracy\n",
    "sum(np.asarray(ls) == val)/float(len(ls))"
   ]
  },
  {
   "cell_type": "code",
   "execution_count": null,
   "metadata": {
    "collapsed": true
   },
   "outputs": [],
   "source": [
    "# use pandas to validate results\n",
    "pred_svm_test = pd.DataFrame(pred_svm_test)\n",
    "pred_nnsoft_test = pd.DataFrame(pred_nnsoft_test)\n",
    "pred_nnsig_test = pd.DataFrame(pred_nnsig_test)\n",
    "subm_all = pd.concat([pred_svm_test, pred_nnsoft_test,pred_nnsig_test],1)\n",
    "subm_all.mode(axis=1) "
   ]
  }
 ],
 "metadata": {
  "kernelspec": {
   "display_name": "Python 2",
   "language": "python",
   "name": "python2"
  },
  "language_info": {
   "codemirror_mode": {
    "name": "ipython",
    "version": 2
   },
   "file_extension": ".py",
   "mimetype": "text/x-python",
   "name": "python",
   "nbconvert_exporter": "python",
   "pygments_lexer": "ipython2",
   "version": "2.7.13"
  }
 },
 "nbformat": 4,
 "nbformat_minor": 2
}
