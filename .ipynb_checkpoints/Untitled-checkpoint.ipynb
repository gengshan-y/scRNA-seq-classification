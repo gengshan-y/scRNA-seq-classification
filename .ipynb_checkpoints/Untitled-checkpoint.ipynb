{
 "cells": [
  {
   "cell_type": "code",
   "execution_count": 7,
   "metadata": {
    "collapsed": true
   },
   "outputs": [],
   "source": [
    "import tensorflow as tf\n",
    "import numpy as np\n",
    "import os\n",
    "import random\n",
    "import pandas as pd\n",
    "from matplotlib import pyplot as plt\n",
    "% matplotlib inline\n",
    "def _floats_feature(value):\n",
    "    return tf.train.Feature(float_list=tf.train.FloatList(value=value))\n",
    "def _int64_feature(value):\n",
    "    return tf.train.Feature(int64_list=tf.train.Int64List(value=[value]))"
   ]
  },
  {
   "cell_type": "code",
   "execution_count": 8,
   "metadata": {},
   "outputs": [],
   "source": [
    "INPUT_PATH = os.path.join('..', 'data')\n",
    "TEST_DF = pd.read_csv(os.path.join(INPUT_PATH, 'test_covariates.tsv'), sep='\\t')"
   ]
  },
  {
   "cell_type": "code",
   "execution_count": 9,
   "metadata": {
    "collapsed": true
   },
   "outputs": [],
   "source": [
    "TRAIN_DF = pd.read_csv(os.path.join(INPUT_PATH, 'train_covariates.tsv'), sep='\\t')"
   ]
  },
  {
   "cell_type": "code",
   "execution_count": 10,
   "metadata": {
    "collapsed": true
   },
   "outputs": [],
   "source": [
    "TRAIN_ID_DF = pd.read_csv(os.path.join(INPUT_PATH, 'train_experiment_ids.tsv'), sep='\\t')\n",
    "TRAIN_LAB_DF = pd.read_csv(os.path.join(INPUT_PATH, 'train_observed_labels_new.tsv'), sep='\\t')"
   ]
  },
  {
   "cell_type": "code",
   "execution_count": 34,
   "metadata": {},
   "outputs": [
    {
     "name": "stdout",
     "output_type": "stream",
     "text": [
      "#experiments that contains labels appeared in only this experiment = 22\n",
      "#labels that appeared in one experiment = 24\n",
      "#labels in train = 43\n",
      "#labels in val = 21\n",
      "#labels in common = 18\n",
      "#labels only in train = 24\n",
      "#experiments that contains labels appeared in only this experiment = 22\n",
      "#labels that appeared in one experiment = 24\n",
      "#labels in train = 45\n",
      "#labels in val = 21\n",
      "#labels in common = 20\n",
      "#labels only in train = 24\n",
      "#experiments that contains labels appeared in only this experiment = 22\n",
      "#labels that appeared in one experiment = 24\n",
      "#labels in train = 43\n",
      "#labels in val = 21\n",
      "#labels in common = 18\n",
      "#labels only in train = 24\n",
      "#experiments that contains labels appeared in only this experiment = 22\n",
      "#labels that appeared in one experiment = 24\n",
      "#labels in train = 46\n",
      "#labels in val = 22\n",
      "#labels in common = 22\n",
      "#labels only in train = 24\n"
     ]
    }
   ],
   "source": [
    "flag = True\n",
    "random.seed(1)\n",
    "while flag:\n",
    "    # sanity check, unique mapping\n",
    "    train_ids = []\n",
    "    val_ids = []\n",
    "    train_labs = []\n",
    "    val_labs = []\n",
    "    perc = 0.9\n",
    "    for i in TRAIN_ID_DF['Experiment ID'].unique():\n",
    "        for j in TRAIN_LAB_DF[TRAIN_ID_DF['Experiment ID']==i]['num'].unique():\n",
    "            trails = TRAIN_ID_DF[TRAIN_LAB_DF['num']==j]['Experiment ID'].unique()\n",
    "            if len(trails) == 1:\n",
    "                train_ids += list(trails)\n",
    "                train_labs += [j]\n",
    "    train_ids = list(set(train_ids))\n",
    "    train_labs = list(set(train_labs))\n",
    "    print('#experiments that contains labels appeared in only this experiment = %d' %len(train_ids))\n",
    "    train_specific_labs = train_labs[:]\n",
    "    train_specific_ids = train_ids[:]\n",
    "    print('#labels that appeared in one experiment = %d' %len(train_labs))\n",
    "\n",
    "    # train val split\n",
    "    for i in TRAIN_LAB_DF['num'].unique():\n",
    "        trail = TRAIN_ID_DF[TRAIN_LAB_DF['num']==i]['Experiment ID'].unique()  # experiments that contain label i\n",
    "        trail = np.setdiff1d(np.setdiff1d(trail, train_ids),val_ids)  # new experiment\n",
    "        random.shuffle(trail)\n",
    "        ind = int(len(trail) * perc)\n",
    "        train_ids += list(trail[:ind])\n",
    "        val_ids += list(trail[ind:])\n",
    "\n",
    "    for i in train_ids:\n",
    "        train_labs += list(TRAIN_LAB_DF[TRAIN_ID_DF['Experiment ID']==i]['num'].unique())\n",
    "    for i in val_ids:\n",
    "        val_labs += list(TRAIN_LAB_DF[TRAIN_ID_DF['Experiment ID']==i]['num'].unique())\n",
    "    train_labs = list(set(train_labs))\n",
    "    val_labs = list(set(val_labs))\n",
    "\n",
    "\n",
    "    print('#labels in train = %d' %len(train_labs))\n",
    "    print('#labels in val = %d' %len(val_labs))\n",
    "    print('#labels in common = %d' %len(np.intersect1d(train_labs,val_labs)))\n",
    "    assert(len(np.intersect1d(train_ids,val_ids)) == 0)\n",
    "    print('#labels only in train = %d'%len(train_specific_labs))\n",
    "    flag = not(len(np.intersect1d(train_labs,val_labs)) == 22)"
   ]
  },
  {
   "cell_type": "code",
   "execution_count": 35,
   "metadata": {},
   "outputs": [
    {
     "name": "stdout",
     "output_type": "stream",
     "text": [
      "experiments in train 57\n",
      "experiments in val 22\n",
      "samples in total 21389\n",
      "samples in val 4642\n",
      "samples in train 16747\n",
      "16747/4642, 21389\n"
     ]
    }
   ],
   "source": [
    "train_idx = []\n",
    "val_idx = []\n",
    "perc = 0.9\n",
    "\n",
    "for i in train_ids:\n",
    "    idxs = list(TRAIN_DF[TRAIN_ID_DF['Experiment ID'] == i].index) \n",
    "    if i in train_specific_ids:\n",
    "        random.shuffle(idxs)\n",
    "        ind = int(len(idxs) * perc)\n",
    "        train_idx += idxs[:ind]\n",
    "        val_idx += idxs[ind:]\n",
    "    else:\n",
    "        train_idx += idxs\n",
    "\n",
    "for i in val_ids:\n",
    "    val_idx += list(TRAIN_DF[TRAIN_ID_DF['Experiment ID'] == i].index)\n",
    "    \n",
    "print 'experiments in train %d' %len(train_ids)\n",
    "print 'experiments in val %d' % len(val_ids)\n",
    "\n",
    "print 'samples in total %d' % (len(val_idx) + len(train_idx))\n",
    "print 'samples in val %d' % len(val_idx)\n",
    "print 'samples in train %d' % len(train_idx)\n",
    "print '%d/%d, %d' % (len(train_idx), len(val_idx), len(train_idx + val_idx))"
   ]
  },
  {
   "cell_type": "code",
   "execution_count": 36,
   "metadata": {},
   "outputs": [
    {
     "name": "stdout",
     "output_type": "stream",
     "text": [
      "count      46.000000\n",
      "mean      364.065217\n",
      "std       593.177673\n",
      "min         1.000000\n",
      "25%        38.500000\n",
      "50%       141.500000\n",
      "75%       370.500000\n",
      "max      3300.000000\n",
      "Name: Cell Type, dtype: float64\n"
     ]
    },
    {
     "data": {
      "image/png": "[encoded data removed]",
      "text/plain": [
       "<matplotlib.figure.Figure at 0x7fb923c8e190>"
      ]
     },
     "metadata": {},
     "output_type": "display_data"
    }
   ],
   "source": [
    "counts = TRAIN_LAB_DF.loc[train_idx].groupby('Cell Type')['Cell Type'].count()\n",
    "print counts.describe()\n",
    "plt.figure(figsize=(12, 6))\n",
    "plt.title(\"Sorted category counts\")\n",
    "_ = plt.plot(sorted(counts), '*-')"
   ]
  },
  {
   "cell_type": "code",
   "execution_count": 658,
   "metadata": {
    "collapsed": true
   },
   "outputs": [],
   "source": [
    "#remove_idx = []\n",
    "#for i in train_specific_labs:\n",
    "#    remove_idx += list(TRAIN_DF[TRAIN_LAB_DF['num'] == i].index)\n",
    "#train_idx = np.setdiff1d(train_idx, remove_idx)\n",
    "#len(train_idx)"
   ]
  },
  {
   "cell_type": "code",
   "execution_count": 109,
   "metadata": {
    "collapsed": true
   },
   "outputs": [],
   "source": [
    "#for i in TRAIN_LAB_DF.loc[train_idx]['Cell Type'].unique():\n",
    "#    idx_type_t = (TRAIN_LAB_DF.loc[train_idx]['Cell Type'] == i).index[np.where(TRAIN_LAB_DF.loc[train_idx]['Cell Type'] == i)].tolist()\n",
    "#    idx_type_v = (TRAIN_LAB_DF.loc[val_idx]['Cell Type'] == i).index[np.where(TRAIN_LAB_DF.loc[val_idx]['Cell Type'] == i)].tolist()\n",
    "#    print i\n",
    "#    print len(idx_type_t)\n",
    "#    print len(idx_type_v)\n",
    "#    if len(idx_type_t) < len(idx_type_v):\n",
    "#        train_idx = np.setdiff1d(train_idx, idx_type_t).tolist()\n",
    "#        val_idx = np.setdiff1d(val_idx, idx_type_v).tolist()\n",
    "#        train_idx += idx_type_v\n",
    "#        val_idx += idx_type_t"
   ]
  },
  {
   "cell_type": "code",
   "execution_count": 37,
   "metadata": {},
   "outputs": [
    {
     "data": {
      "text/plain": [
       "Cell Type\n",
       "CL:0000037 hematopoietic stem cell                574\n",
       "CL:0000057 fibroblast                               9\n",
       "CL:0000081 blood cell                              83\n",
       "CL:0000084 T cell                                 254\n",
       "CL:0000127 astrocyte                               15\n",
       "CL:0000137 osteocyte                              374\n",
       "CL:0000163 endocrine cell                         162\n",
       "CL:0000169 type B pancreatic cell                   9\n",
       "CL:0000192 smooth muscle cell                      72\n",
       "CL:0000235 macrophage                             244\n",
       "CL:0000353 blastoderm cell                         37\n",
       "CL:0000540 neuron                                 161\n",
       "CL:0000746 cardiac muscle cell                     28\n",
       "CL:0000763 myeloid cell                            77\n",
       "CL:0001056 dendritic cell, human                   21\n",
       "CL:0002033 short term hematopoietic stem cell     629\n",
       "CL:0002034 long term hematopoietic stem cell      715\n",
       "CL:0002319 neural cell                             16\n",
       "CL:0002321 embryonic cell                         462\n",
       "CL:0002322 embryonic stem cell                   1416\n",
       "CL:0002365 medullary thymic epithelial cell       144\n",
       "CL:0008019 mesenchymal cell                         1\n",
       "CL:1000497 kidney cell                             84\n",
       "UBERON:0000007 pituitary gland                    129\n",
       "UBERON:0000044 dorsal root ganglion                 5\n",
       "UBERON:0000045 ganglion                           231\n",
       "UBERON:0000115 lung epithelium                    127\n",
       "UBERON:0000473 testis                               2\n",
       "UBERON:0000922 embryo                              15\n",
       "UBERON:0000955 brain                               59\n",
       "UBERON:0000966 retina                             306\n",
       "UBERON:0000992 female gonad                       126\n",
       "UBERON:0001003 skin epidermis                    1088\n",
       "UBERON:0001264 pancreas                           261\n",
       "UBERON:0001851 cortex                            1603\n",
       "UBERON:0001891 midbrain                           787\n",
       "UBERON:0001898 hypothalamus                      1287\n",
       "UBERON:0001902 epithelium of small intestine      360\n",
       "UBERON:0001954 Ammon's horn                        43\n",
       "UBERON:0001997 olfactory epithelium               836\n",
       "UBERON:0002038 substantia nigra                   208\n",
       "UBERON:0002048 lung                               139\n",
       "UBERON:0002107 liver                                7\n",
       "UBERON:0002435 striatum                          3300\n",
       "UBERON:0004129 growth plate cartilage             153\n",
       "UBERON:0010743 meningeal cluster                   88\n",
       "Name: Cell Type, dtype: int64"
      ]
     },
     "execution_count": 37,
     "metadata": {},
     "output_type": "execute_result"
    }
   ],
   "source": [
    "TRAIN_LAB_DF.loc[train_idx].groupby('Cell Type')['Cell Type'].count()"
   ]
  },
  {
   "cell_type": "code",
   "execution_count": 38,
   "metadata": {},
   "outputs": [
    {
     "data": {
      "text/plain": [
       "Cell Type\n",
       "CL:0000037 hematopoietic stem cell                 71\n",
       "CL:0000057 fibroblast                             207\n",
       "CL:0000081 blood cell                              10\n",
       "CL:0000084 T cell                                  29\n",
       "CL:0000127 astrocyte                                1\n",
       "CL:0000137 osteocyte                               35\n",
       "CL:0000163 endocrine cell                          18\n",
       "CL:0000169 type B pancreatic cell                 406\n",
       "CL:0000192 smooth muscle cell                       8\n",
       "CL:0000235 macrophage                              29\n",
       "CL:0000353 blastoderm cell                         39\n",
       "CL:0000540 neuron                                 288\n",
       "CL:0000746 cardiac muscle cell                      8\n",
       "CL:0000763 myeloid cell                             9\n",
       "CL:0001056 dendritic cell, human                    3\n",
       "CL:0002033 short term hematopoietic stem cell      67\n",
       "CL:0002034 long term hematopoietic stem cell       83\n",
       "CL:0002319 neural cell                            507\n",
       "CL:0002321 embryonic cell                          52\n",
       "CL:0002322 embryonic stem cell                     16\n",
       "CL:0002365 medullary thymic epithelial cell        16\n",
       "CL:0008019 mesenchymal cell                        49\n",
       "CL:1000497 kidney cell                              9\n",
       "UBERON:0000007 pituitary gland                     15\n",
       "UBERON:0000044 dorsal root ganglion              1006\n",
       "UBERON:0000045 ganglion                            26\n",
       "UBERON:0000115 lung epithelium                     15\n",
       "UBERON:0000473 testis                             423\n",
       "UBERON:0000922 embryo                             235\n",
       "UBERON:0000955 brain                                4\n",
       "UBERON:0000966 retina                              34\n",
       "UBERON:0000992 female gonad                        15\n",
       "UBERON:0001003 skin epidermis                       8\n",
       "UBERON:0001264 pancreas                            26\n",
       "UBERON:0001851 cortex                               6\n",
       "UBERON:0001891 midbrain                            95\n",
       "UBERON:0001898 hypothalamus                       143\n",
       "UBERON:0001902 epithelium of small intestine       40\n",
       "UBERON:0001954 Ammon's horn                         8\n",
       "UBERON:0001997 olfactory epithelium                10\n",
       "UBERON:0002038 substantia nigra                    16\n",
       "UBERON:0002048 lung                                66\n",
       "UBERON:0002107 liver                               96\n",
       "UBERON:0002435 striatum                           367\n",
       "UBERON:0004129 growth plate cartilage              18\n",
       "UBERON:0010743 meningeal cluster                   10\n",
       "Name: Cell Type, dtype: int64"
      ]
     },
     "execution_count": 38,
     "metadata": {},
     "output_type": "execute_result"
    }
   ],
   "source": [
    "TRAIN_LAB_DF.loc[val_idx].groupby('Cell Type')['Cell Type'].count()"
   ]
  },
  {
   "cell_type": "code",
   "execution_count": 39,
   "metadata": {
    "collapsed": true
   },
   "outputs": [],
   "source": [
    "import json\n",
    "with open('../data/split.json','w') as f: \n",
    "    json.dump({'train':train_idx, 'val': val_idx},f)"
   ]
  },
  {
   "cell_type": "code",
   "execution_count": 40,
   "metadata": {
    "collapsed": true
   },
   "outputs": [],
   "source": [
    "with open('../data/split.json','r') as f: \n",
    "    data = json.load(f)"
   ]
  },
  {
   "cell_type": "code",
   "execution_count": 41,
   "metadata": {},
   "outputs": [
    {
     "name": "stdout",
     "output_type": "stream",
     "text": [
      "16747/4642\n"
     ]
    }
   ],
   "source": [
    "print '%d/%d' % (len(data['train']), len(data['val']))"
   ]
  },
  {
   "cell_type": "code",
   "execution_count": 42,
   "metadata": {},
   "outputs": [
    {
     "data": {
      "text/plain": [
       "[0.0,\n",
       " 0.0,\n",
       " 0.0,\n",
       " 0.0,\n",
       " 0.0,\n",
       " 0.0,\n",
       " 0.0,\n",
       " 0.0,\n",
       " 0.0,\n",
       " 0.0,\n",
       " 0.0,\n",
       " 0.0,\n",
       " 0.0,\n",
       " 0.0,\n",
       " 0.0,\n",
       " 0.0,\n",
       " 0.0,\n",
       " 0.0,\n",
       " 0.0,\n",
       " 0.0,\n",
       " 0.0,\n",
       " 0.0,\n",
       " 0.0,\n",
       " 0.0,\n",
       " 0.0,\n",
       " 0.0,\n",
       " 0.0,\n",
       " 0.0,\n",
       " 0.0,\n",
       " 0.0,\n",
       " 0.0,\n",
       " 0.0,\n",
       " 0.0,\n",
       " 0.0,\n",
       " 0.0,\n",
       " 0.0]"
      ]
     },
     "execution_count": 42,
     "metadata": {},
     "output_type": "execute_result"
    }
   ],
   "source": [
    "max_feature = TRAIN_DF.max()\n",
    "np_max_feature = max_feature.as_matrix()\n",
    "sorted(np_max_feature)[:36]"
   ]
  },
  {
   "cell_type": "code",
   "execution_count": 43,
   "metadata": {},
   "outputs": [
    {
     "name": "stdout",
     "output_type": "stream",
     "text": [
      "count     20499.000000\n",
      "mean        299.188001\n",
      "std        1949.872690\n",
      "min           0.000000\n",
      "25%          29.182522\n",
      "50%          69.608120\n",
      "75%         185.178807\n",
      "max      117555.859945\n",
      "dtype: float64\n"
     ]
    },
    {
     "data": {
      "image/png": "[encoded data removed]",
      "text/plain": [
       "<matplotlib.figure.Figure at 0x7fb8d3c186d0>"
      ]
     },
     "metadata": {},
     "output_type": "display_data"
    }
   ],
   "source": [
    "print max_feature.describe()\n",
    "plt.hist(max_feature.as_matrix(),bins=100);"
   ]
  },
  {
   "cell_type": "code",
   "execution_count": 44,
   "metadata": {
    "collapsed": true
   },
   "outputs": [],
   "source": [
    "df = TRAIN_DF\n",
    "df_norm = (df - df.mean()) / (df.max() - df.min())"
   ]
  },
  {
   "cell_type": "code",
   "execution_count": 45,
   "metadata": {},
   "outputs": [
    {
     "data": {
      "text/plain": [
       "array([ 0.99668465,  0.99760319,  0.99839583, ...,  0.99771521,\n",
       "        0.99059913,  0.99250749])"
      ]
     },
     "execution_count": 45,
     "metadata": {},
     "output_type": "execute_result"
    }
   ],
   "source": [
    "max_feature_norm = df_norm.max()\n",
    "max_feature_norm.as_matrix()"
   ]
  },
  {
   "cell_type": "code",
   "execution_count": 46,
   "metadata": {
    "collapsed": true
   },
   "outputs": [],
   "source": [
    "train_df_norm = df_norm.loc[train_idx]\n",
    "train_lab = TRAIN_LAB_DF.loc[train_idx]\n",
    "val_df_norm = df_norm.loc[val_idx]\n",
    "val_lab = TRAIN_LAB_DF.loc[val_idx]"
   ]
  },
  {
   "cell_type": "code",
   "execution_count": 47,
   "metadata": {
    "collapsed": true
   },
   "outputs": [],
   "source": [
    "def write_tfrecord(path, df,lab):\n",
    "    with tf.python_io.TFRecordWriter(path) as writer:\n",
    "        for i in range(len(df.index)):\n",
    "            example = tf.train.Example(features=tf.train.Features(feature={\n",
    "                'data': _floats_feature(df.iloc[i].as_matrix()),\n",
    "                'label': _int64_feature(lab.iloc[i].as_matrix()[1])\n",
    "            }))\n",
    "            writer.write(example.SerializeToString())\n",
    "        print('%d records wrote' % i)\n",
    "            #if not(i==0) and (i % 99== 0):\n",
    "            #    break"
   ]
  },
  {
   "cell_type": "code",
   "execution_count": 48,
   "metadata": {},
   "outputs": [
    {
     "name": "stdout",
     "output_type": "stream",
     "text": [
      "36\n"
     ]
    }
   ],
   "source": [
    "for i in range(train_df_norm.shape[0]):\n",
    "    print train_df_norm.loc[i].isnull().sum()\n",
    "    break"
   ]
  },
  {
   "cell_type": "code",
   "execution_count": 49,
   "metadata": {},
   "outputs": [
    {
     "name": "stdout",
     "output_type": "stream",
     "text": [
      "0\n"
     ]
    }
   ],
   "source": [
    "for i in range(TRAIN_DF.shape[0]):\n",
    "    print TRAIN_DF.loc[i].isnull().sum()\n",
    "    break"
   ]
  },
  {
   "cell_type": "code",
   "execution_count": 50,
   "metadata": {},
   "outputs": [
    {
     "name": "stdout",
     "output_type": "stream",
     "text": [
      "100038993\n",
      "100039939\n",
      "100043225\n",
      "100043585\n",
      "100504362\n",
      "102941\n",
      "114675\n",
      "15139\n",
      "16147\n",
      "19715\n",
      "212124\n",
      "215413\n",
      "215728\n",
      "216867\n",
      "234203\n",
      "240613\n",
      "244425\n",
      "245405\n",
      "279882\n",
      "320734\n",
      "320835\n",
      "347709\n",
      "404288\n",
      "436479\n",
      "58202\n",
      "619306\n",
      "619308\n",
      "627788\n",
      "627914\n",
      "628596\n",
      "65956\n",
      "668030\n",
      "672214\n",
      "67978\n",
      "68646\n",
      "77905\n",
      "100038993\n",
      "100039939\n",
      "100043225\n",
      "100043585\n",
      "100504362\n",
      "102941\n",
      "114675\n",
      "15139\n",
      "16147\n",
      "19715\n",
      "212124\n",
      "215413\n",
      "215728\n",
      "216867\n",
      "234203\n",
      "240613\n",
      "244425\n",
      "245405\n",
      "279882\n",
      "320734\n",
      "320835\n",
      "347709\n",
      "404288\n",
      "436479\n",
      "58202\n",
      "619306\n",
      "619308\n",
      "627788\n",
      "627914\n",
      "628596\n",
      "65956\n",
      "668030\n",
      "672214\n",
      "67978\n",
      "68646\n",
      "77905\n"
     ]
    }
   ],
   "source": [
    "for i,t in max_feature[max_feature == 0].iteritems():\n",
    "    print i\n",
    "    if i in train_df_norm.keys():\n",
    "        del train_df_norm[i]\n",
    "for i,t in max_feature[max_feature == 0].iteritems():\n",
    "    print i\n",
    "    if i in val_df_norm.keys():\n",
    "        del val_df_norm[i]"
   ]
  },
  {
   "cell_type": "code",
   "execution_count": 51,
   "metadata": {
    "scrolled": true
   },
   "outputs": [
    {
     "name": "stdout",
     "output_type": "stream",
     "text": [
      "16746 records wrote\n",
      "4641 records wrote\n"
     ]
    }
   ],
   "source": [
    "write_tfrecord('../data/train.tfrecords',train_df_norm,train_lab)\n",
    "write_tfrecord('../data/val.tfrecords',val_df_norm,val_lab)"
   ]
  },
  {
   "cell_type": "code",
   "execution_count": 52,
   "metadata": {
    "collapsed": true
   },
   "outputs": [],
   "source": [
    "np.save('../data/train_data.npy', train_df_norm.as_matrix())\n",
    "np.save('../data/train_label.npy', train_lab.as_matrix()[:,1])\n",
    "np.save('../data/val_data.npy', val_df_norm.as_matrix())\n",
    "np.save('../data/val_label.npy',val_lab.as_matrix()[:,1])"
   ]
  },
  {
   "cell_type": "code",
   "execution_count": null,
   "metadata": {
    "collapsed": true
   },
   "outputs": [],
   "source": [
    "lab_t, count_t = np.unique(label_train, return_counts=True)\n",
    "lab_v, count_v = np.unique(label_val, return_counts=True)\n",
    "np.save('../data/sem_map.npy',{lab_t[i]: count_t[i] for i in range(len(count_t))})\n",
    "np.save('../data/sem_map_v.npy',{lab_v[i]: count_v[i] for i in range(len(count_v))})"
   ]
  },
  {
   "cell_type": "code",
   "execution_count": null,
   "metadata": {
    "collapsed": true
   },
   "outputs": [],
   "source": [
    "from sklearn.utils.class_weight import compute_sample_weight\n",
    "compute_sample_weight(class_weight='balanced', y=labels)"
   ]
  },
  {
   "cell_type": "code",
   "execution_count": null,
   "metadata": {
    "collapsed": true
   },
   "outputs": [],
   "source": []
  }
 ],
 "metadata": {
  "kernelspec": {
   "display_name": "Python 2",
   "language": "python",
   "name": "python2"
  },
  "language_info": {
   "codemirror_mode": {
    "name": "ipython",
    "version": 2
   },
   "file_extension": ".py",
   "mimetype": "text/x-python",
   "name": "python",
   "nbconvert_exporter": "python",
   "pygments_lexer": "ipython2",
   "version": "2.7.13"
  }
 },
 "nbformat": 4,
 "nbformat_minor": 2
}
